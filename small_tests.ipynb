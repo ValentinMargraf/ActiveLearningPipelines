{
 "cells": [
  {
   "cell_type": "code",
   "execution_count": 1,
   "id": "efc14f19",
   "metadata": {},
   "outputs": [],
   "source": [
    "from openml import config, study, tasks, runs, extensions"
   ]
  },
  {
   "cell_type": "code",
   "execution_count": 2,
   "id": "0ea6fe52",
   "metadata": {},
   "outputs": [],
   "source": [
    "benchmark_suite = study.get_suite('OpenML-CC18') "
   ]
  },
  {
   "cell_type": "code",
   "execution_count": 3,
   "id": "2c2562cb",
   "metadata": {},
   "outputs": [],
   "source": [
    "cc18 = benchmark_suite.tasks   "
   ]
  },
  {
   "cell_type": "code",
   "execution_count": 4,
   "id": "c7677e2c",
   "metadata": {},
   "outputs": [],
   "source": [
    "rest=[3,6,8,10,11,12,14,15,16,18,20,21,22,23,26,28,29,30,31,32,36,37,39,40,41,43,44,46,48,49,50,53,54,59,60,61,62,151,155,161,162,164,180,181,182,183,184,187,197,209,223,279,285,287,292,294,300,307,312,313,329,333,334,335,336,337,338,375,377,383,384,385,386,387,388,389,391,392,394,395,397,398,400,401,444,446,448,458,461,463,464,469,475,478,679,685,694,714,715,716,717,718,719,720,721,722,723,724,725,726,727,728,730,732,733,734,735,736,737,740,741,742,743,744,745,746,747,748,749,750,751,752,753,754,756,761,762,763,766,768,769,770,771,772,773,774,775,776,778,779,782,783,784,788,789,792,793,794,795,796,797,799,801,803,805,806,807,808,811,812,813,814,816,818,819,820,821,822,823,824,825,826,827,828,829,830,832,833,834,837,838,841,843,845,846,847,849,850,851,853,855,860,863,865,866,867,868,869,870,871,872,873,875,876,877,878,879,880,881,884,885,886,888,889,890,895,896,900,901,902,903,904,906,907,908,909,910,911,912,913,914,915,916,917,918,920,921,922,923,924,925,926,931,932,933,934,935,936,937,941,943,948,949,952,953,954,955,956,958,959,962,965,969,970,971,973,974,976,978,979,980,983,987,991,994,995,996,997,1004,1005,1006,1011,1012,1013,1014,1016,1019,1020,1021,1022,1025,1026,1036,1038,1040,1041,1043,1044,1045,1046,1048,1049,1050,1054,1059,1061,1063,1064,1065,1066,1067,1071,1073,1075,1077,1078,1080,1084,1100,1106,1115,1116,1120,1121,1122,1123,1124,1125,1126,1127,1129,1131,1132,1133,1135,1136,1137,1140,1141,1143,1144,1145,1147,1148,1149,1150,1151,1152,1153,1154,1155,1156,1157,1158,1159,1160,1162,1163,1164,1165,1167,1169,1217,1236,1237,1238,1412,1413,1441,1442,1443,1444,1446,1447,1448,1449,1450,1451,1453,1454,1455,1457,1459,1460,1464,1467,1471,1472,1473,1475,1481,1482,1483,1486,1487,1488,1489,1496,1498,1500,1501,1503,1505,1507,1508,1509,1510,1512,1513,1519,1520,1527,1528,1529,1531,1533,1534,1535,1537,1538,1539,1540,1542,1543,1545,1546,1556,1557,1565,1568,1600,3560,3902,3904,3913,3917,4134,4135,4153,4340,4534,4538,9976,9977,9978,9981,9985,10093,10101,14952,14954,14965,14969,14970,40474,40475,40476,40477,40478,125920,125922,146195,146800,146817,146819,146821,146822,146824,146825,167119,167120,167124,167125,167140,167141]"
   ]
  },
  {
   "cell_type": "code",
   "execution_count": 5,
   "id": "87c9fb81",
   "metadata": {},
   "outputs": [
    {
     "name": "stdout",
     "output_type": "stream",
     "text": [
      "[3, 6, 11, 12, 14, 15, 16, 18, 22, 23, 28, 29, 31, 32, 37, 43, 45, 49, 53, 219, 2074, 2079, 3021, 3022, 3481, 3549, 3560, 3573, 3902, 3903, 3904, 3913, 3917, 3918, 7592, 9910, 9946, 9952, 9957, 9960, 9964, 9971, 9976, 9977, 9978, 9981, 9985, 10093, 10101, 14952, 14954, 14965, 14969, 14970, 125920, 125922, 146195, 146800, 146817, 146819, 146820, 146821, 146822, 146824, 146825, 167119, 167120, 167121, 167124, 167125, 167140, 167141, 3, 6, 8, 10, 11, 12, 14, 15, 16, 18, 20, 21, 22, 23, 26, 28, 29, 30, 31, 32, 36, 37, 39, 40, 41, 43, 44, 46, 48, 49, 50, 53, 54, 59, 60, 61, 62, 151, 155, 161, 162, 164, 180, 181, 182, 183, 184, 187, 197, 209, 223, 279, 285, 287, 292, 294, 300, 307, 312, 313, 329, 333, 334, 335, 336, 337, 338, 375, 377, 383, 384, 385, 386, 387, 388, 389, 391, 392, 394, 395, 397, 398, 400, 401, 444, 446, 448, 458, 461, 463, 464, 469, 475, 478, 679, 685, 694, 714, 715, 716, 717, 718, 719, 720, 721, 722, 723, 724, 725, 726, 727, 728, 730, 732, 733, 734, 735, 736, 737, 740, 741, 742, 743, 744, 745, 746, 747, 748, 749, 750, 751, 752, 753, 754, 756, 761, 762, 763, 766, 768, 769, 770, 771, 772, 773, 774, 775, 776, 778, 779, 782, 783, 784, 788, 789, 792, 793, 794, 795, 796, 797, 799, 801, 803, 805, 806, 807, 808, 811, 812, 813, 814, 816, 818, 819, 820, 821, 822, 823, 824, 825, 826, 827, 828, 829, 830, 832, 833, 834, 837, 838, 841, 843, 845, 846, 847, 849, 850, 851, 853, 855, 860, 863, 865, 866, 867, 868, 869, 870, 871, 872, 873, 875, 876, 877, 878, 879, 880, 881, 884, 885, 886, 888, 889, 890, 895, 896, 900, 901, 902, 903, 904, 906, 907, 908, 909, 910, 911, 912, 913, 914, 915, 916, 917, 918, 920, 921, 922, 923, 924, 925, 926, 931, 932, 933, 934, 935, 936, 937, 941, 943, 948, 949, 952, 953, 954, 955, 956, 958, 959, 962, 965, 969, 970, 971, 973, 974, 976, 978, 979, 980, 983, 987, 991, 994, 995, 996, 997, 1004, 1005, 1006, 1011, 1012, 1013, 1014, 1016, 1019, 1020, 1021, 1022, 1025, 1026, 1036, 1038, 1040, 1041, 1043, 1044, 1045, 1046, 1048, 1049, 1050, 1054, 1059, 1061, 1063, 1064, 1065, 1066, 1067, 1071, 1073, 1075, 1077, 1078, 1080, 1084, 1100, 1106, 1115, 1116, 1120, 1121, 1122, 1123, 1124, 1125, 1126, 1127, 1129, 1131, 1132, 1133, 1135, 1136, 1137, 1140, 1141, 1143, 1144, 1145, 1147, 1148, 1149, 1150, 1151, 1152, 1153, 1154, 1155, 1156, 1157, 1158, 1159, 1160, 1162, 1163, 1164, 1165, 1167, 1169, 1217, 1236, 1237, 1238, 1412, 1413, 1441, 1442, 1443, 1444, 1446, 1447, 1448, 1449, 1450, 1451, 1453, 1454, 1455, 1457, 1459, 1460, 1464, 1467, 1471, 1472, 1473, 1475, 1481, 1482, 1483, 1486, 1487, 1488, 1489, 1496, 1498, 1500, 1501, 1503, 1505, 1507, 1508, 1509, 1510, 1512, 1513, 1519, 1520, 1527, 1528, 1529, 1531, 1533, 1534, 1535, 1537, 1538, 1539, 1540, 1542, 1543, 1545, 1546, 1556, 1557, 1565, 1568, 1600, 3560, 3902, 3904, 3913, 3917, 4134, 4135, 4153, 4340, 4534, 4538, 9976, 9977, 9978, 9981, 9985, 10093, 10101, 14952, 14954, 14965, 14969, 14970, 40474, 40475, 40476, 40477, 40478, 125920, 125922, 146195, 146800, 146817, 146819, 146821, 146822, 146824, 146825, 167119, 167120, 167124, 167125, 167140, 167141]\n"
     ]
    }
   ],
   "source": [
    "union=list(cc18 + rest)\n",
    "print(union)"
   ]
  },
  {
   "cell_type": "code",
   "execution_count": 6,
   "id": "d4091b40",
   "metadata": {},
   "outputs": [
    {
     "data": {
      "text/plain": [
       "557"
      ]
     },
     "execution_count": 6,
     "metadata": {},
     "output_type": "execute_result"
    }
   ],
   "source": [
    "len(union)"
   ]
  },
  {
   "cell_type": "code",
   "execution_count": 7,
   "id": "03288129",
   "metadata": {},
   "outputs": [
    {
     "name": "stdout",
     "output_type": "stream",
     "text": [
      "72\n"
     ]
    }
   ],
   "source": [
    "intersect=list(set(union) & set(cc18))\n",
    "print(len(intersect))"
   ]
  },
  {
   "cell_type": "code",
   "execution_count": 8,
   "id": "b49698a1",
   "metadata": {},
   "outputs": [
    {
     "name": "stdout",
     "output_type": "stream",
     "text": [
      "72\n"
     ]
    }
   ],
   "source": [
    "print(len(cc18))"
   ]
  },
  {
   "cell_type": "code",
   "execution_count": 4,
   "id": "ac347c26",
   "metadata": {},
   "outputs": [],
   "source": [
    "import pandas as pd\n",
    "import numpy as np\n",
    "import openml\n",
    "from sklearn import compose, impute, metrics, pipeline, preprocessing, tree, decomposition\n",
    "from sklearn.model_selection import train_test_split, KFold, StratifiedKFold\n",
    "from sklearn.metrics import pairwise_distances, make_scorer, roc_auc_score, silhouette_score, pairwise_distances\n",
    "from scipy.spatial.distance import pdist\n",
    "from sklearn.datasets import make_blobs\n",
    "from sklearn.linear_model import LogisticRegression as lr\n",
    "from sklearn.ensemble import RandomForestClassifier as rf\n",
    "from sklearn.svm import SVC as svm\n",
    "import sklearn.preprocessing as preprocessing\n",
    "import sklearn.impute as impute\n",
    "from openml import config, study, tasks, runs, extensions\n",
    "from sklearn.naive_bayes import MultinomialNB as mnb\n",
    "from sklearn.ensemble import ExtraTreesClassifier as etc\n",
    "from sklearn.neighbors import KNeighborsClassifier as nn\n",
    "from sklearn.naive_bayes import GaussianNB\n",
    "from sklearn.neural_network import MLPClassifier\n",
    "from scipy.stats import entropy\n",
    "from uncertainty_quantifier import RandomForestEns as ens\n",
    "from matplotlib.colors import LinearSegmentedColormap\n",
    "import matplotlib.pyplot as plt\n",
    "import scipy"
   ]
  },
  {
   "cell_type": "code",
   "execution_count": 120,
   "id": "dac967b8",
   "metadata": {},
   "outputs": [
    {
     "name": "stderr",
     "output_type": "stream",
     "text": [
      "/home/valentin/mambaforge/envs/asl/lib/python3.8/site-packages/openml/datasets/functions.py:437: FutureWarning: Starting from Version 0.15 `download_data`, `download_qualities`, and `download_features_meta_data` will all be ``False`` instead of ``True`` by default to enable lazy loading. To disable this message until version 0.15 explicitly set `download_data`, `download_qualities`, and `download_features_meta_data` to a bool while calling `get_dataset`.\n",
      "  warnings.warn(\n"
     ]
    }
   ],
   "source": [
    "openmlid, seed  =3,0\n",
    "try:\n",
    "    ds = openml.datasets.get_dataset(openmlid)\n",
    "    # print(\"dataset info loaded\")\n",
    "    df = ds.get_data()[0]\n",
    "    num_rows = len(df)\n",
    "\n",
    "    # print(\"Data in memory, now creating X and y\")\n",
    "\n",
    "    # prepare label column as numpy array\n",
    "    X = np.array(df.drop(columns=[ds.default_target_attribute]).values)\n",
    "    y = np.array(df[ds.default_target_attribute].values)\n",
    "    if y.dtype != int:\n",
    "        y_int = np.zeros(len(y)).astype(int)\n",
    "        vals = np.unique(y)\n",
    "        for i, val in enumerate(vals):\n",
    "            mask = y == val\n",
    "            y_int[mask] = i\n",
    "        y = y_int\n",
    "\n",
    "except Exception as e:\n",
    "    task = openml.tasks.get_task(openmlid)\n",
    "    X, y = task.get_X_and_y()\n",
    "\n",
    "# random shuffle\n",
    "arr = np.arange(y.shape[0])\n",
    "\n",
    "np.random.seed(seed)\n",
    "np.random.shuffle(arr)\n",
    "X = X[arr]\n",
    "y = y[arr]\n",
    "#print(\"X\", X)\n",
    "#print(\"y\", y)\n",
    "import sklearn.preprocessing as preprocessing\n",
    "import sklearn.impute as impute\n",
    "imputer = impute.SimpleImputer(missing_values=np.nan, strategy='mean')\n",
    "encoder = preprocessing.OrdinalEncoder()\n",
    "X =encoder.fit_transform(X)\n",
    "X = imputer.fit_transform(X)\n",
    "\n",
    "# split into train/test\n",
    "train_X, X_te, train_labels, y_te = train_test_split(X, y, test_size=1 / 3, random_state=seed, stratify=None)\n",
    "\n",
    "\n",
    "split = .5\n",
    "\n",
    "X_u, X_l, y_u, y_l = train_test_split(train_X, train_labels, test_size=split, random_state=seed, stratify=None)\n"
   ]
  },
  {
   "cell_type": "code",
   "execution_count": 128,
   "id": "10d932c8",
   "metadata": {},
   "outputs": [
    {
     "data": {
      "text/plain": [
       "array([[0., 0., 0., 0., 1., 1., 1., 0., 0., 0., 0., 0., 1., 0., 1., 0.,\n",
       "        0., 0., 0., 0., 0., 0., 0., 1., 0., 0., 0., 0., 0., 0., 0., 0.,\n",
       "        0., 0., 1., 1.],\n",
       "       [1., 1., 0., 1., 0., 1., 0., 0., 0., 0., 1., 0., 1., 0., 1., 0.,\n",
       "        0., 1., 0., 0., 0., 0., 0., 0., 0., 1., 0., 0., 0., 0., 0., 0.,\n",
       "        0., 0., 1., 0.],\n",
       "       [1., 0., 1., 0., 0., 1., 1., 0., 0., 0., 1., 0., 0., 0., 1., 0.,\n",
       "        0., 1., 0., 0., 0., 0., 0., 1., 0., 1., 0., 0., 0., 0., 0., 0.,\n",
       "        1., 0., 0., 0.],\n",
       "       [1., 0., 0., 1., 0., 1., 0., 0., 0., 0., 1., 0., 1., 0., 1., 0.,\n",
       "        0., 1., 0., 0., 0., 0., 0., 1., 0., 1., 1., 0., 0., 0., 1., 0.,\n",
       "        1., 0., 1., 0.],\n",
       "       [0., 0., 0., 0., 0., 1., 0., 0., 0., 1., 0., 0., 1., 0., 1., 0.,\n",
       "        0., 1., 0., 0., 0., 0., 0., 1., 0., 1., 0., 0., 0., 0., 0., 0.,\n",
       "        0., 0., 1., 1.]])"
      ]
     },
     "execution_count": 128,
     "metadata": {},
     "output_type": "execute_result"
    }
   ],
   "source": [
    "X_u=X_u[:5]\n",
    "y_u = y_u[:5]\n",
    "X_l = X_l[:5]\n",
    "y_l = y_l[:5]\n",
    "X_u"
   ]
  },
  {
   "cell_type": "code",
   "execution_count": 131,
   "id": "83a24821",
   "metadata": {},
   "outputs": [
    {
     "name": "stdout",
     "output_type": "stream",
     "text": [
      "to query from [1 2 3]\n"
     ]
    }
   ],
   "source": [
    "from skactiveml.pool import RandomSampling\n",
    "\n",
    "qs = RandomSampling()\n",
    "\n",
    "\n",
    "to_query_from = np.setdiff1d(np.arange(len(X_u)), [0,4])\n",
    "\n",
    "Xu = X_u[to_query_from]\n",
    "\n",
    "\n",
    "\n",
    "nan_labels = np.full(len(Xu), np.nan, dtype=float)\n",
    "print(\"to query from\",to_query_from)\n",
    "\n",
    "\n",
    "queried_ids = qs.query(X=np.concatenate([X_l, Xu]), y=np.concatenate([y_l, nan_labels]), batch_size=2)\n",
    "\n",
    "ids = queried_ids - len(y_l)\n",
    "original_ids = to_query_from[ids]"
   ]
  },
  {
   "cell_type": "code",
   "execution_count": 132,
   "id": "4c749e56",
   "metadata": {},
   "outputs": [
    {
     "data": {
      "text/plain": [
       "array([1, 3])"
      ]
     },
     "execution_count": 132,
     "metadata": {},
     "output_type": "execute_result"
    }
   ],
   "source": [
    "original_ids"
   ]
  },
  {
   "cell_type": "code",
   "execution_count": null,
   "id": "54d86913",
   "metadata": {},
   "outputs": [],
   "source": []
  },
  {
   "cell_type": "code",
   "execution_count": null,
   "id": "baa51c08",
   "metadata": {},
   "outputs": [],
   "source": []
  }
 ],
 "metadata": {
  "kernelspec": {
   "display_name": "asl",
   "language": "python",
   "name": "asl"
  },
  "language_info": {
   "codemirror_mode": {
    "name": "ipython",
    "version": 3
   },
   "file_extension": ".py",
   "mimetype": "text/x-python",
   "name": "python",
   "nbconvert_exporter": "python",
   "pygments_lexer": "ipython3",
   "version": "3.8.18"
  }
 },
 "nbformat": 4,
 "nbformat_minor": 5
}
