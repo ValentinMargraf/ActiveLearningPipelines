{
 "cells": [
  {
   "cell_type": "markdown",
   "id": "92abd1ff",
   "metadata": {},
   "source": [
    "# Specify and fit an active learning pipeline"
   ]
  },
  {
   "cell_type": "code",
   "execution_count": null,
   "id": "cc8b6688",
   "metadata": {},
   "outputs": [],
   "source": []
  },
  {
   "cell_type": "code",
   "execution_count": 1,
   "id": "8125236c",
   "metadata": {},
   "outputs": [],
   "source": [
    "from ALP.benchmark.ActiveLearningScenario import ActiveLearningScenario\n",
    "from ALP.benchmark.ActiveLearningSetting import ActiveLearningSetting\n",
    "from ALP.pipeline.ActiveLearningPipeline import ActiveLearningPipeline\n",
    "from ALP.pipeline.Oracle import Oracle\n",
    "from ALP.pipeline.QueryStrategy import MarginQueryStrategy\n",
    "from sklearn.ensemble import RandomForestClassifier as RF\n",
    "from sklearn.metrics import accuracy_score"
   ]
  },
  {
   "cell_type": "markdown",
   "id": "caea8e1d",
   "metadata": {},
   "source": [
    "## setup scenario and setting"
   ]
  },
  {
   "cell_type": "code",
   "execution_count": 2,
   "id": "405793c8",
   "metadata": {},
   "outputs": [],
   "source": [
    "SCENARIO_ID = 1\n",
    "OPENML_ID = 31\n",
    "TEST_SPLIT_SEED = 42\n",
    "TRAIN_SPLIT_SEED = 43\n",
    "SEED = 44\n",
    "\n",
    "SETTING_ID = 1337\n",
    "SETTING_NAME = \"TestSetting\"\n",
    "SETTING_TRAIN_SIZE = 10\n",
    "SETTING_TRAIN_TYPE = \"absolute\"\n",
    "SETTING_TEST_SIZE = 0.3\n",
    "NUMBER_OF_IT = 10\n",
    "NUMBER_OF_QUERIES = 5\n",
    "FACTOR = None"
   ]
  },
  {
   "cell_type": "code",
   "execution_count": 3,
   "id": "1e381aec",
   "metadata": {},
   "outputs": [],
   "source": [
    "alsetting = ActiveLearningSetting(\n",
    "    setting_id=SETTING_ID,\n",
    "    setting_name=SETTING_NAME,\n",
    "    setting_labeled_train_size=SETTING_TRAIN_SIZE,\n",
    "    setting_train_type=SETTING_TRAIN_TYPE,\n",
    "    setting_test_size=SETTING_TEST_SIZE,\n",
    "    number_of_iterations=NUMBER_OF_IT,\n",
    "    number_of_queries=NUMBER_OF_QUERIES,\n",
    "    factor=FACTOR,\n",
    ")"
   ]
  },
  {
   "cell_type": "code",
   "execution_count": 4,
   "id": "4b1d2c2d",
   "metadata": {},
   "outputs": [
    {
     "data": {
      "text/plain": [
       "<ActiveLearningSetting> {'setting_id': 1337, 'setting_name': 'TestSetting', 'setting_labeled_train_size': 10.0, 'setting_train_type': 'absolute', 'setting_test_size': 0.3, 'number_of_iterations': 10, 'number_of_queries': 5, 'factor': None}"
      ]
     },
     "execution_count": 4,
     "metadata": {},
     "output_type": "execute_result"
    }
   ],
   "source": [
    "alsetting"
   ]
  },
  {
   "cell_type": "code",
   "execution_count": 5,
   "id": "6706ea0e",
   "metadata": {},
   "outputs": [],
   "source": [
    "alscenario = ActiveLearningScenario(\n",
    "    scenario_id=SCENARIO_ID,\n",
    "    openml_id=OPENML_ID,\n",
    "    test_split_seed=TEST_SPLIT_SEED,\n",
    "    train_split_seed=TRAIN_SPLIT_SEED,\n",
    "    seed=SEED,\n",
    "    setting=alsetting,\n",
    ")"
   ]
  },
  {
   "cell_type": "markdown",
   "id": "72b89f71",
   "metadata": {},
   "source": [
    "## split data"
   ]
  },
  {
   "cell_type": "code",
   "execution_count": 6,
   "id": "16310f7d",
   "metadata": {},
   "outputs": [],
   "source": [
    "X_l, y_l, X_u, y_u, X_test, y_test = alscenario.get_data_split()"
   ]
  },
  {
   "cell_type": "markdown",
   "id": "619bf0e7",
   "metadata": {},
   "source": [
    "## specify active learning pipeline and run procedure\n",
    "#### we choose a random forest as learning algorithm and margin sampling as query strategy"
   ]
  },
  {
   "cell_type": "code",
   "execution_count": 7,
   "id": "c859a4cd",
   "metadata": {},
   "outputs": [
    {
     "name": "stdout",
     "output_type": "stream",
     "text": [
      "define query strategy\n",
      "setup learner\n",
      "fit active learning pipeline\n"
     ]
    }
   ],
   "source": [
    "print(\"define query strategy\")\n",
    "query_strategy = MarginQueryStrategy(42)\n",
    "print(\"setup learner\")\n",
    "learner = RF(n_estimators=100)\n",
    "\n",
    "\n",
    "ALP = ActiveLearningPipeline(\n",
    "    learner=learner,\n",
    "    query_strategy=query_strategy,\n",
    "    init_budget=SETTING_TRAIN_SIZE,\n",
    "    num_iterations=NUMBER_OF_IT,\n",
    "    num_queries_per_iteration=NUMBER_OF_QUERIES,\n",
    ")\n",
    "\n",
    "oracle = Oracle(X_u, y_u)\n",
    "print(\"fit active learning pipeline\")\n",
    "ALP.active_fit(X_l, y_l, X_u, oracle)"
   ]
  },
  {
   "cell_type": "code",
   "execution_count": 8,
   "id": "f42c44f5",
   "metadata": {},
   "outputs": [
    {
     "name": "stdout",
     "output_type": "stream",
     "text": [
      "final test acc 0.7166666666666667\n"
     ]
    }
   ],
   "source": [
    "y_hat = ALP.predict(X=X_test)\n",
    "print(\"final test acc\", accuracy_score(y_test, y_hat))"
   ]
  },
  {
   "cell_type": "code",
   "execution_count": null,
   "id": "ff5c7cb1",
   "metadata": {},
   "outputs": [],
   "source": []
  }
 ],
 "metadata": {
  "kernelspec": {
   "display_name": "alp_saltbench",
   "language": "python",
   "name": "alp_saltbench"
  },
  "language_info": {
   "codemirror_mode": {
    "name": "ipython",
    "version": 3
   },
   "file_extension": ".py",
   "mimetype": "text/x-python",
   "name": "python",
   "nbconvert_exporter": "python",
   "pygments_lexer": "ipython3",
   "version": "3.10.14"
  }
 },
 "nbformat": 4,
 "nbformat_minor": 5
}
