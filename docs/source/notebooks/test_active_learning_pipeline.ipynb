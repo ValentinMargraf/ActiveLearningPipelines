{
 "cells": [
  {
   "cell_type": "markdown",
   "id": "fc808203",
   "metadata": {},
   "source": [
    "# Specify and fit an active learning pipeline\n",
    "In this example we will specify and evaluate an active learning pipeline. You can set all parameters manually, such as the learning algorithm and query strategy to be used, the seeds, the size of the train/test split, number of iterations, number of queries per iteration, etc."
   ]
  },
  {
   "cell_type": "code",
   "id": "78c0f5c0",
   "metadata": {
    "ExecuteTime": {
     "end_time": "2024-07-16T14:48:53.206091Z",
     "start_time": "2024-07-16T14:48:48.686695Z"
    }
   },
   "source": [
    "from alpbench.benchmark.ActiveLearningScenario import ActiveLearningScenario\n",
    "from alpbench.benchmark.ActiveLearningSetting import ActiveLearningSetting\n",
    "from alpbench.pipeline.ActiveLearningPipeline import ActiveLearningPipeline\n",
    "from alpbench.pipeline.Oracle import Oracle\n",
    "from alpbench.pipeline.QueryStrategy import MarginQueryStrategy\n",
    "from sklearn.ensemble import RandomForestClassifier as RF\n",
    "from sklearn.metrics import accuracy_score"
   ],
   "outputs": [],
   "execution_count": 1
  },
  {
   "cell_type": "markdown",
   "id": "7e7ea388",
   "metadata": {},
   "source": [
    "### Setup scenario and setting"
   ]
  },
  {
   "cell_type": "code",
   "id": "17953099",
   "metadata": {
    "ExecuteTime": {
     "end_time": "2024-07-16T14:48:55.818788Z",
     "start_time": "2024-07-16T14:48:55.808100Z"
    }
   },
   "source": [
    "SCENARIO_ID = 1\n",
    "OPENML_ID = 31\n",
    "TEST_SPLIT_SEED = 42\n",
    "TRAIN_SPLIT_SEED = 43\n",
    "SEED = 44\n",
    "\n",
    "SETTING_ID = 1337\n",
    "SETTING_NAME = \"TestSetting\"\n",
    "SETTING_TRAIN_SIZE = 10\n",
    "SETTING_TRAIN_TYPE = \"absolute\"\n",
    "SETTING_TEST_SIZE = 0.3\n",
    "NUMBER_OF_IT = 10\n",
    "NUMBER_OF_QUERIES = 5\n",
    "FACTOR = -1"
   ],
   "outputs": [],
   "execution_count": 2
  },
  {
   "cell_type": "code",
   "id": "464780d1",
   "metadata": {
    "ExecuteTime": {
     "end_time": "2024-07-16T14:48:56.830049Z",
     "start_time": "2024-07-16T14:48:56.822763Z"
    }
   },
   "source": [
    "alsetting = ActiveLearningSetting(\n",
    "    setting_id=SETTING_ID,\n",
    "    setting_name=SETTING_NAME,\n",
    "    setting_labeled_train_size=SETTING_TRAIN_SIZE,\n",
    "    setting_train_type=SETTING_TRAIN_TYPE,\n",
    "    setting_test_size=SETTING_TEST_SIZE,\n",
    "    number_of_iterations=NUMBER_OF_IT,\n",
    "    number_of_queries=NUMBER_OF_QUERIES,\n",
    "    factor=FACTOR,\n",
    ")"
   ],
   "outputs": [],
   "execution_count": 3
  },
  {
   "cell_type": "code",
   "id": "b693d385",
   "metadata": {
    "ExecuteTime": {
     "end_time": "2024-07-16T14:48:58.967395Z",
     "start_time": "2024-07-16T14:48:58.948114Z"
    }
   },
   "source": [
    "alsetting"
   ],
   "outputs": [
    {
     "data": {
      "text/plain": [
       "<ActiveLearningSetting> {'setting_id': 1337, 'setting_name': 'TestSetting', 'setting_labeled_train_size': 10.0, 'setting_train_type': 'absolute', 'setting_test_size': 0.3, 'number_of_iterations': 10, 'number_of_queries': 5, 'factor': -1}"
      ]
     },
     "execution_count": 4,
     "metadata": {},
     "output_type": "execute_result"
    }
   ],
   "execution_count": 4
  },
  {
   "cell_type": "code",
   "id": "a8c3f075",
   "metadata": {
    "ExecuteTime": {
     "end_time": "2024-07-16T14:49:15.039284Z",
     "start_time": "2024-07-16T14:49:14.962539Z"
    }
   },
   "source": [
    "alscenario = ActiveLearningScenario(\n",
    "    scenario_id=SCENARIO_ID,\n",
    "    openml_id=OPENML_ID,\n",
    "    test_split_seed=TEST_SPLIT_SEED,\n",
    "    train_split_seed=TRAIN_SPLIT_SEED,\n",
    "    seed=SEED,\n",
    "    setting=alsetting,\n",
    ")"
   ],
   "outputs": [],
   "execution_count": 5
  },
  {
   "cell_type": "markdown",
   "id": "1128211e",
   "metadata": {},
   "source": [
    "### Split data"
   ]
  },
  {
   "cell_type": "code",
   "id": "0003eae5",
   "metadata": {
    "ExecuteTime": {
     "end_time": "2024-07-16T14:49:17.097774Z",
     "start_time": "2024-07-16T14:49:17.085714Z"
    }
   },
   "source": [
    "X_l, y_l, X_u, y_u, X_test, y_test = alscenario.get_data_split()"
   ],
   "outputs": [],
   "execution_count": 6
  },
  {
   "cell_type": "markdown",
   "id": "78694505",
   "metadata": {},
   "source": [
    "### Specify active learning pipeline and run procedure"
   ]
  },
  {
   "cell_type": "code",
   "id": "fd29b1a5",
   "metadata": {
    "ExecuteTime": {
     "end_time": "2024-07-16T14:49:22.930529Z",
     "start_time": "2024-07-16T14:49:18.151516Z"
    }
   },
   "source": [
    "# we choose a **random forest** as learning algorithm and **margin sampling** as query strategy\n",
    "\n",
    "print(\"define query strategy\")\n",
    "query_strategy = MarginQueryStrategy(42)\n",
    "print(\"setup learner\")\n",
    "learner = RF(n_estimators=100)\n",
    "\n",
    "\n",
    "ALP = ActiveLearningPipeline(\n",
    "    learner=learner,\n",
    "    query_strategy=query_strategy,\n",
    "    init_budget=SETTING_TRAIN_SIZE,\n",
    "    num_iterations=NUMBER_OF_IT,\n",
    "    num_queries_per_iteration=NUMBER_OF_QUERIES,\n",
    "    initially_labeled_indices=alscenario.labeled_indices,\n",
    ")\n",
    "\n",
    "oracle = Oracle(X_u, y_u)\n",
    "print(\"fit active learning pipeline\")\n",
    "ALP.active_fit(X_l, y_l, X_u, oracle)"
   ],
   "outputs": [
    {
     "name": "stdout",
     "output_type": "stream",
     "text": [
      "define query strategy\n",
      "setup learner\n",
      "fit active learning pipeline\n"
     ]
    }
   ],
   "execution_count": 7
  },
  {
   "cell_type": "code",
   "id": "34a85c8e",
   "metadata": {
    "ExecuteTime": {
     "end_time": "2024-07-16T14:49:22.983309Z",
     "start_time": "2024-07-16T14:49:22.936474Z"
    }
   },
   "source": [
    "y_hat = ALP.predict(X=X_test)\n",
    "print(\"final test acc\", accuracy_score(y_test, y_hat))"
   ],
   "outputs": [
    {
     "name": "stdout",
     "output_type": "stream",
     "text": [
      "final test acc 0.6966666666666667\n"
     ]
    }
   ],
   "execution_count": 8
  },
  {
   "cell_type": "code",
   "execution_count": null,
   "id": "37bc00ea",
   "metadata": {},
   "outputs": [],
   "source": []
  }
 ],
 "metadata": {
  "kernelspec": {
   "display_name": "venv_012",
   "language": "python",
   "name": "venv_012"
  },
  "language_info": {
   "codemirror_mode": {
    "name": "ipython",
    "version": 3
   },
   "file_extension": ".py",
   "mimetype": "text/x-python",
   "name": "python",
   "nbconvert_exporter": "python",
   "pygments_lexer": "ipython3",
   "version": "3.10.12"
  }
 },
 "nbformat": 4,
 "nbformat_minor": 5
}
