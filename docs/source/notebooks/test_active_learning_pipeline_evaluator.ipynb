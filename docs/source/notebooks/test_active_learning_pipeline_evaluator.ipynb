{
 "cells": [
  {
   "cell_type": "markdown",
   "id": "1f702236",
   "metadata": {},
   "source": [
    "# Evaluating an active learning pipeline using the evaluator\n",
    "### In this example we will specify and evaluate an active learning pipeline using the Evaluator, which can be done in only a few lines of code. The query strategy, learning algorithm and setting have to be specified by strings. (Check ALP/evaluation/experimenter/DefaultSetup.py to ensure you are using the same descriptions we are using.)"
   ]
  },
  {
   "cell_type": "code",
   "execution_count": 1,
   "id": "960a9565",
   "metadata": {},
   "outputs": [],
   "source": [
    "from sklearn.metrics import accuracy_score\n",
    "\n",
    "from ALP.benchmark.BenchmarkConnector import DataFileBenchmarkConnector\n",
    "from ALP.evaluation.experimenter.DefaultSetup import ensure_default_setup\n",
    "from ALP.pipeline.ALPEvaluator import ALPEvaluator"
   ]
  },
  {
   "cell_type": "markdown",
   "id": "81cc6622",
   "metadata": {},
   "source": [
    "### Establish the database connection, load default learners, query strategies and settings"
   ]
  },
  {
   "cell_type": "code",
   "execution_count": 2,
   "id": "36ca0315",
   "metadata": {},
   "outputs": [],
   "source": [
    "# create benchmark connector and establish database connection\n",
    "benchmark_connector = DataFileBenchmarkConnector()\n",
    "\n",
    "# load some default settings and algorithm choices\n",
    "ensure_default_setup(benchmark_connector)"
   ]
  },
  {
   "cell_type": "markdown",
   "id": "7a28caa0",
   "metadata": {},
   "source": [
    "### Fit an ALP on the dataset with openmlid 31, the ALP is composed out of a SVM and Power Margin Sampling"
   ]
  },
  {
   "cell_type": "code",
   "execution_count": 4,
   "id": "7f44af1e",
   "metadata": {},
   "outputs": [],
   "source": [
    "evaluator = ALPEvaluator(\n",
    "    benchmark_connector=benchmark_connector,\n",
    "    setting_name=\"small\",\n",
    "    openml_id=31,\n",
    "    query_strategy_name=\"power_margin\",\n",
    "    learner_name=\"svm_rbf\",\n",
    ")"
   ]
  },
  {
   "cell_type": "code",
   "execution_count": 5,
   "id": "03d94342",
   "metadata": {},
   "outputs": [
    {
     "name": "stdout",
     "output_type": "stream",
     "text": [
      "final test acc 0.7\n"
     ]
    }
   ],
   "source": [
    "alp = evaluator.fit()\n",
    "\n",
    "# fit / predict and evaluate predictions\n",
    "X_test, y_test = evaluator.get_test_data()\n",
    "y_hat = alp.predict(X=X_test)\n",
    "print(\"final test acc\", accuracy_score(y_test, y_hat))"
   ]
  },
  {
   "cell_type": "code",
   "execution_count": null,
   "id": "cb36c939",
   "metadata": {},
   "outputs": [],
   "source": []
  }
 ],
 "metadata": {
  "kernelspec": {
   "display_name": "alp_saltbench",
   "language": "python",
   "name": "alp_saltbench"
  },
  "language_info": {
   "codemirror_mode": {
    "name": "ipython",
    "version": 3
   },
   "file_extension": ".py",
   "mimetype": "text/x-python",
   "name": "python",
   "nbconvert_exporter": "python",
   "pygments_lexer": "ipython3",
   "version": "3.10.14"
  }
 },
 "nbformat": 4,
 "nbformat_minor": 5
}
